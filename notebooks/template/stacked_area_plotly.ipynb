{
 "cells": [
  {
   "cell_type": "markdown",
   "metadata": {},
   "source": [
    "# Stacked Area Graph\n",
    "\n",
    "This Jupyter Notebook creates a stacked area graph that shows how many times certain publishers have been referred by the media or journalists over a given period of time.  This data is extracted from the post processed data file, which should be readily available as a dataframe after running the helper notebook.  **If you have not run the helper notebook, please run that first**.\n",
    "\n",
    "---\n",
    "\n",
    "## Constants\n",
    "\n",
    "Modify the constants below in order for the visualization to focus on a different set of publishers or period of time."
   ]
  },
  {
   "cell_type": "code",
   "execution_count": null,
   "metadata": {},
   "outputs": [],
   "source": [
    "AREA = ['A', 'B', 'C'] # Which publishers should we focus on?\n",
    "BEGIN = 2010 # What is the starting period of time (inclusive)\n",
    "END = 2020 # What is the ending period of time (inclusive)\n",
    "TIME = [str(date) for date in range(BEGIN, END + 1)]\n",
    "REFER = 'referring record id' # Column name for referring records\n",
    "DOP = 'date of publication' # Column name for date of publication\n",
    "IND = 'Year' # Name of the pandas DataFrame index"
   ]
  },
  {
   "cell_type": "markdown",
   "metadata": {},
   "source": [
    "---\n",
    "\n",
    "## Processing Code\n",
    "The below cells contain the necessary code needed in order to process the data for visualization.  If you want to observe the data, click [here](#Data).  If you want to skip to the visualization, click [here](#Visualization).\n",
    "\n",
    "---"
   ]
  },
  {
   "cell_type": "code",
   "execution_count": null,
   "metadata": {},
   "outputs": [],
   "source": [
    "# Use the dataframe created in the helper notebook\n",
    "%store -r dataframe\n",
    "dataframe\n",
    "\n",
    "import pandas as pd\n",
    "import plotly.express as px\n",
    "import plotly.graph_objects as go\n",
    "from ipywidgets import widgets"
   ]
  },
  {
   "cell_type": "code",
   "execution_count": null,
   "metadata": {},
   "outputs": [],
   "source": [
    "def record_number_of_references_each(df, time_interval, column_name, column_value):\n",
    "    '''\n",
    "    Record the number of references of sources with a specific characteristic\n",
    "    (e.g., sources whose 'associated publisher' is 'Times of Israel')\n",
    "    \n",
    "    The time when a source was referred is recorded based on the date of \n",
    "    publication on which the referring article/tweet was published. \n",
    "    \n",
    "    e.g., If a NYT article published in 2020 refers to a \n",
    "    Times of Israel article published in 2019, the referral is \n",
    "    counted for 2020, not 2019.\n",
    "    \n",
    "    Parameters\n",
    "    --------\n",
    "    df: pandas dataframe\n",
    "        data read as pandas dataframe from the postprocessed .csv file\n",
    "    time_interval: string\n",
    "                   'month' or 'year'\n",
    "    column_name: string\n",
    "                 column name to focus on. e.g., 'associated publisher'\n",
    "    column_value: string\n",
    "                  column value for a specific source. e.g., 'Times of Israel'\n",
    "                  \n",
    "    Return\n",
    "    --------\n",
    "    date_dic: dictionary (key:time, value:the number of references)\n",
    "    '''\n",
    "    date_dic = {}\n",
    "    \n",
    "    # for each source in the area category\n",
    "    for index, row in df.loc[df[column_name] == column_value].iterrows():\n",
    "        # record the publication date of each referring article/tweet\n",
    "        if row[REFER] and row[REFER] != \"null\":\n",
    "            referring_record_ids = row[REFER]\n",
    "            if type(referring_record_ids) is float:\n",
    "                continue\n",
    "            for referring_id_raw in referring_record_ids:\n",
    "                referring_id = int(referring_id_raw)\n",
    "                if time_interval == 'year':\n",
    "                    try:\n",
    "                        year = df.at[referring_id, DOP][:4]\n",
    "                        if type(df.at[referring_id, DOP]) is str:\n",
    "                            if type(year) is str:\n",
    "                                if year not in date_dic:\n",
    "                                    date_dic[year] = 1\n",
    "                                else:\n",
    "                                    date_dic[year] += 1\n",
    "                    except KeyError:\n",
    "                        print(f'KeyError handled for record {index} with key {referring_id}.')\n",
    "                if time_interval == 'month':\n",
    "                    try:\n",
    "                        year_month = df.at[referring_id, DOP][:7]\n",
    "                        if type(year_month) is str:\n",
    "                            if year_month not in date_dic:\n",
    "                                date_dic[year_month] = 1\n",
    "                            else:\n",
    "                                date_dic[year_month] += 1\n",
    "                    except KeyError:\n",
    "                        print(f'KeyError handled for record {index} with key {referring_id}.')\n",
    "    return date_dic"
   ]
  },
  {
   "cell_type": "code",
   "execution_count": null,
   "metadata": {},
   "outputs": [],
   "source": [
    "def record_number_of_references(df, time_interval, time_list, column_name, area_list):\n",
    "    '''\n",
    "    Record the number of references of sources with specific characteristics\n",
    "    (e.g., sources whose 'associated publisher' is 'Times of Israel',\n",
    "    those whose 'associated publisher' is 'Palestine Chronicle',\n",
    "    and those whose 'associated publisher' is 'Jerusalem Post')\n",
    "    \n",
    "    Parameters\n",
    "    --------\n",
    "    df: pandas dataframe\n",
    "        data read as pandas dataframe from the postprocessed .csv file\n",
    "    time_interval: string\n",
    "                   'month' or 'year'\n",
    "    column_name: string\n",
    "                 column name to focus on. e.g., 'associate publisher'\n",
    "    area_list: list\n",
    "               a list of column value of interest\n",
    "               e.g., ['Palestine Chronicle', 'Times of Israel', 'Jerusalem Post']\n",
    "                  \n",
    "    Return\n",
    "    --------\n",
    "    a pandas dataframe with time points (e.g., 2018, 2019, 2020) as indices and\n",
    "    area names (e.g., 'Palestine Chronicle', 'Times of Israel', 'Jerusalem Post')\n",
    "    as column labels\n",
    "    '''\n",
    "    data_all_area_list = []\n",
    "    \n",
    "    # for each area category\n",
    "    for column_value in AREA:\n",
    "        # date of reference for the area\n",
    "        data_each_area = record_number_of_references_each(df, time_interval, column_name, column_value)\n",
    "        data_each_area_list = []\n",
    "        for time in TIME:\n",
    "            if time in data_each_area:\n",
    "                data_each_area_list.append(data_each_area[time])\n",
    "            else:\n",
    "                data_each_area_list.append(0)\n",
    "        data_all_area_list.append(data_each_area_list)\n",
    "        \n",
    "    return pd.DataFrame(list(map(list, zip(*data_all_area_list))), index=TIME, columns=AREA) "
   ]
  },
  {
   "cell_type": "code",
   "execution_count": null,
   "metadata": {},
   "outputs": [],
   "source": [
    "stack = record_number_of_references(dataframe, 'year', TIME, 'associated publisher', AREA)\n",
    "stack.index.name=IND"
   ]
  },
  {
   "cell_type": "markdown",
   "metadata": {},
   "source": [
    "---\n",
    "\n",
    "## Data\n",
    "\n",
    "The below cells showcases the pandas dataframe, which will be visualized by plotly.\n",
    "\n",
    "---"
   ]
  },
  {
   "cell_type": "markdown",
   "metadata": {},
   "source": [
    "**The raw data in our dataframe:**"
   ]
  },
  {
   "cell_type": "code",
   "execution_count": null,
   "metadata": {},
   "outputs": [],
   "source": [
    "dataframe"
   ]
  },
  {
   "cell_type": "markdown",
   "metadata": {},
   "source": [
    "**The data for the stacked area diagram:**"
   ]
  },
  {
   "cell_type": "code",
   "execution_count": null,
   "metadata": {},
   "outputs": [],
   "source": [
    "stack"
   ]
  },
  {
   "cell_type": "markdown",
   "metadata": {},
   "source": [
    "---\n",
    "\n",
    "## Visualization Code\n",
    "\n",
    "This section contains the code needed to create the interactive widgets and graphics.\n",
    "\n",
    "---"
   ]
  },
  {
   "cell_type": "code",
   "execution_count": null,
   "metadata": {},
   "outputs": [],
   "source": [
    "year = widgets.IntRangeSlider(\n",
    "    value=[BEGIN, END],\n",
    "    min=BEGIN,\n",
    "    max=END,\n",
    "    step=1,\n",
    "    description='Year',\n",
    "    disabled=False,\n",
    "    continuous_update=False,\n",
    "    orientation='horizontal',\n",
    "    readout=True,\n",
    "    readout_format='d',\n",
    ")\n",
    "\n",
    "publishers = widgets.SelectMultiple(\n",
    "    options=AREA,\n",
    "    value=AREA,\n",
    "    description='Publishers',\n",
    "    disabled=False\n",
    ")\n",
    "\n",
    "container = widgets.HBox(children=[year, publishers])"
   ]
  },
  {
   "cell_type": "code",
   "execution_count": null,
   "metadata": {},
   "outputs": [],
   "source": [
    "figure = px.area(stack, \n",
    "                 x=stack.index,\n",
    "                 y=AREA,\n",
    "                 title='Changes in example sources cited')\n",
    "\n",
    "figure.update_layout(\n",
    "    yaxis_title='Number of References',\n",
    "    legend_title_text='Publishers'\n",
    ")\n",
    "\n",
    "graphic = go.FigureWidget(figure)"
   ]
  },
  {
   "cell_type": "code",
   "execution_count": null,
   "metadata": {},
   "outputs": [],
   "source": [
    "def response(change):\n",
    "    with graphic.batch_update():\n",
    "        print(graphic.data)\n",
    "\n",
    "year.observe(response, names='value')\n",
    "publishers.observe(response, names='value')"
   ]
  },
  {
   "cell_type": "code",
   "execution_count": null,
   "metadata": {},
   "outputs": [],
   "source": [
    "widgets.VBox([container, graphic])"
   ]
  },
  {
   "cell_type": "markdown",
   "metadata": {},
   "source": [
    "---\n",
    "\n",
    "## Visualization\n",
    "\n",
    "To start the visualization, click on `Cell` and `Run All`.  The interactive graphic should be displayed below."
   ]
  },
  {
   "cell_type": "markdown",
   "metadata": {},
   "source": [
    "---\n",
    "\n",
    "## Exportation\n",
    "\n",
    "The data file exported as .csv file below can be used to produce a stacked area graph or graphs of similar types with other libraries/languages/tools.  Uncomment the code below to enable the feature."
   ]
  },
  {
   "cell_type": "code",
   "execution_count": null,
   "metadata": {},
   "outputs": [],
   "source": [
    "# stack.to_csv('stacked_area_data.csv')  "
   ]
  }
 ],
 "metadata": {
  "interpreter": {
   "hash": "e534e48711db4d1e1c48977d0d14ff85b1f16d41bcc4fdfd88268a329b3c9d66"
  },
  "kernelspec": {
   "display_name": "Python 3 (ipykernel)",
   "language": "python",
   "name": "python3"
  },
  "language_info": {
   "codemirror_mode": {
    "name": "ipython",
    "version": 3
   },
   "file_extension": ".py",
   "mimetype": "text/x-python",
   "name": "python",
   "nbconvert_exporter": "python",
   "pygments_lexer": "ipython3",
   "version": "3.10.7"
  }
 },
 "nbformat": 4,
 "nbformat_minor": 4
}
