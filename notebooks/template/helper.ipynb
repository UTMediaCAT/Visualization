{
 "cells": [
  {
   "cell_type": "markdown",
   "id": "d64c0cb3",
   "metadata": {},
   "source": [
    "# Helper Notebook\n",
    "This notebook is responsible for declaring and setting up the variables to be passed to the other diagrams and charts for data visualization.  Adjust the constants below this Markdown cell with the appropriate values.\n",
    "\n",
    "-----"
   ]
  },
  {
   "cell_type": "code",
   "execution_count": 10,
   "id": "7eb99f21",
   "metadata": {},
   "outputs": [],
   "source": [
    "from errno import ENOENT\n",
    "from os import strerror\n",
    "from os.path import exists\n",
    "\n",
    "INPUT = 'example.csv'"
   ]
  },
  {
   "cell_type": "code",
   "execution_count": 11,
   "id": "f9a22291",
   "metadata": {},
   "outputs": [],
   "source": [
    "def check_input() -> None:\n",
    "    '''\n",
    "    Check that the input .csv file is in the scope.\n",
    "    Raise an error if the file is not found.\n",
    "    '''\n",
    "    if not exists(INPUT):\n",
    "        raise FileNotFoundError(ENOENT, strerror(ENOENT), INPUT)"
   ]
  },
  {
   "cell_type": "markdown",
   "id": "9317ffa1",
   "metadata": {},
   "source": [
    "# Verification\n",
    "If the below cell is ran without errors, then data visualization should be ready to go."
   ]
  },
  {
   "cell_type": "code",
   "execution_count": 12,
   "id": "57076e2c",
   "metadata": {},
   "outputs": [],
   "source": [
    "check_input()"
   ]
  }
 ],
 "metadata": {
  "kernelspec": {
   "display_name": "Python 3 (ipykernel)",
   "language": "python",
   "name": "python3"
  },
  "language_info": {
   "codemirror_mode": {
    "name": "ipython",
    "version": 3
   },
   "file_extension": ".py",
   "mimetype": "text/x-python",
   "name": "python",
   "nbconvert_exporter": "python",
   "pygments_lexer": "ipython3",
   "version": "3.10.7"
  }
 },
 "nbformat": 4,
 "nbformat_minor": 5
}
