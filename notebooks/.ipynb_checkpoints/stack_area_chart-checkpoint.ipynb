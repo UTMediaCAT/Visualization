{
 "cells": [
  {
   "cell_type": "code",
   "execution_count": 3,
   "id": "3bc82ec4",
   "metadata": {},
   "outputs": [],
   "source": [
    "# introduce jupyter notebook for stack area chart\n",
    "print('stack area chart')"
   ]
  }
 ],
 "metadata": {
  "kernelspec": {
   "display_name": "Python 3 (ipykernel)",
   "language": "python",
   "name": "python3"
  },
  "language_info": {
   "codemirror_mode": {
    "name": "ipython",
    "version": 3
   },
   "file_extension": ".py",
   "mimetype": "text/x-python",
   "name": "python",
   "nbconvert_exporter": "python",
   "pygments_lexer": "ipython3",
   "version": "3.10.7"
  }
 },
 "nbformat": 4,
 "nbformat_minor": 5
}
